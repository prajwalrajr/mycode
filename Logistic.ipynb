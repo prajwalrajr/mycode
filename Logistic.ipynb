{
  "nbformat": 4,
  "nbformat_minor": 0,
  "metadata": {
    "kernelspec": {
      "display_name": "Python 3",
      "language": "python",
      "name": "python3"
    },
    "language_info": {
      "codemirror_mode": {
        "name": "ipython",
        "version": 3
      },
      "file_extension": ".py",
      "mimetype": "text/x-python",
      "name": "python",
      "nbconvert_exporter": "python",
      "pygments_lexer": "ipython3",
      "version": "3.8.5"
    },
    "colab": {
      "name": "Logistic.ipynb",
      "provenance": []
    }
  },
  "cells": [
    {
      "cell_type": "code",
      "metadata": {
        "id": "qp_8W2MGucVX"
      },
      "source": [
        "import numpy as np\n",
        "#inv(X.T.dot(x)).dot(X.T.(dot(Y))\n",
        "def coeffs(x,y):\n",
        "    from numpy.linalg import inv\n",
        "    left = inv(x.T.dot(x))\n",
        "    right = x.T.dot(y)\n",
        "    beta = left.dot(right)\n",
        "    return beta\n",
        "\n",
        "#Y = 1 / 1 + e-XB\n",
        "def logistic(x,b):\n",
        "    pre =  1/(1+np.exp(-x.dot(b)))\n",
        "    return pre\n",
        "\n",
        "def acc_clf(y,ycap):    #y = 1,0,0,1,1   ycap = 1,0,1,0,1\n",
        "    r=y==ycap           # r = [true,true,f,f,t]  \n",
        "    pcnt = r[r==True].size  #r[r==True].size  = 3\n",
        "    n=y.size\n",
        "    acc=pcnt/n*100  #3/5 * 100\n",
        "    return acc"
      ],
      "execution_count": null,
      "outputs": []
    },
    {
      "cell_type": "code",
      "metadata": {
        "id": "0o59tQt_ucVp"
      },
      "source": [
        "beta = coeffs(X,Y)\n",
        "print(beta)"
      ],
      "execution_count": null,
      "outputs": []
    },
    {
      "cell_type": "code",
      "metadata": {
        "id": "ATAUGya1ucVq"
      },
      "source": [
        "ycap=logistic(X,beta)\n",
        "print(ycap)"
      ],
      "execution_count": null,
      "outputs": []
    },
    {
      "cell_type": "code",
      "metadata": {
        "id": "7MzvS27iucVt"
      },
      "source": [
        "ycap[ycap>0.6]=1\n",
        "ycap[ycap<0.6]=0\n",
        "print(ycap)"
      ],
      "execution_count": null,
      "outputs": []
    },
    {
      "cell_type": "code",
      "metadata": {
        "id": "v2QyXOdfucVv"
      },
      "source": [
        "acc_clf(Y,ycap)"
      ],
      "execution_count": null,
      "outputs": []
    },
    {
      "cell_type": "code",
      "metadata": {
        "id": "OzfqdmibucVy"
      },
      "source": [
        "# logistic regression using sklearn library\n",
        "from sklearn.linear_model import LogisticRegression\n",
        "from sklearn.metrics import accuracy_score\n",
        "\n",
        "model = LogisticRegression()\n",
        "model.fit(X,Y)\n",
        "\n",
        "lgycap=model.predict(X)\n",
        "\n",
        "lgacc = accuracy_score(Y,lgycap)\n",
        "print(\"Accuracy of Logistic Regression : \",lgacc*100)\n",
        "print(lgycap)\n",
        "print(Y)"
      ],
      "execution_count": null,
      "outputs": []
    },
    {
      "cell_type": "code",
      "metadata": {
        "id": "GmJ8SgPOucV0"
      },
      "source": [
        "y = [1,0,1,1,1]\n",
        "ycap = [1,1,1,1,1]\n",
        "\n",
        "ny = np.array(y)\n",
        "nycap = np.array(ycap)\n",
        "z = [ny == nycap]\n",
        "print(z)"
      ],
      "execution_count": null,
      "outputs": []
    },
    {
      "cell_type": "code",
      "metadata": {
        "id": "KAxKNrfPucV3"
      },
      "source": [
        ""
      ],
      "execution_count": null,
      "outputs": []
    }
  ]
}