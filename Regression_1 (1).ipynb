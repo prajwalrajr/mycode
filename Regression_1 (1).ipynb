{
  "nbformat": 4,
  "nbformat_minor": 0,
  "metadata": {
    "kernelspec": {
      "display_name": "Python 3",
      "language": "python",
      "name": "python3"
    },
    "language_info": {
      "codemirror_mode": {
        "name": "ipython",
        "version": 3
      },
      "file_extension": ".py",
      "mimetype": "text/x-python",
      "name": "python",
      "nbconvert_exporter": "python",
      "pygments_lexer": "ipython3",
      "version": "3.8.5"
    },
    "colab": {
      "name": "Regression_1.ipynb",
      "provenance": [],
      "collapsed_sections": []
    }
  },
  "cells": [
    {
      "cell_type": "code",
      "metadata": {
        "id": "ZDaEviyxuTsp"
      },
      "source": [
        "import numpy as np\n",
        "\n",
        "def predict(x,b):\n",
        "    return x.dot(b)\n",
        "\n",
        "def mse(y,ycap):\n",
        "    return((y-ycap)**2).mean()\n",
        "\n",
        "def derivative(x,y,beta):\n",
        "    ycap = predict(x,beta)\n",
        "    return(x.T.dot(y-ycap))/y.size\n",
        "\n",
        "def sd(x):     \n",
        "    return (((x-x.mean())**2).sum() / (x.size-1))**0.5 \n",
        "\n",
        "def scale(x):  \n",
        "    return (x-x.mean())/sd(x)\n",
        "   \n",
        "def train(x,y,iter,alpha,conv = 0.0000001):\n",
        "    beta = np.c_[np.zeros(X.shape[1])]\n",
        "    perr = 0\n",
        "    j = 0\n",
        "    for i in range(iter):\n",
        "        ycap = predict(x,beta)\n",
        "        cerr = mse(y,ycap)\n",
        "        if i % 50 == 0:\n",
        "            print(\"Current Error \",cerr)\n",
        "        diff = np.abs(perr-cerr)\n",
        "        if diff <= conv:\n",
        "            print(\"Training Completed \",i+1, \"iterations\")\n",
        "            j = 1\n",
        "            break\n",
        "        delta = derivative(X,Y,beta)\n",
        "        beta = beta + alpha * delta\n",
        "        perr = cerr\n",
        "    if j == 0:\n",
        "        print(\"Training not completed\")\n",
        "    return beta\n",
        "\n",
        "def scalematrix(x):\n",
        "    ncol=x.shape[1]   #1,60,5.5,40\n",
        "    for i in range(ncol):  \n",
        "        if i == 0:\n",
        "            continue\n",
        "        c = x[:,i]      \n",
        "        x[:,i] = scale(c) \n",
        "    return x                 \n",
        "\n",
        "def accuarcy(y,ycap,closeness):\n",
        "    de = 100-closeness\n",
        "    d = np.abs((y-ycap)/y)*100\n",
        "    pcnt = d[d<=de].size\n",
        "    n=y.size\n",
        "    return pcnt/n*100"
      ],
      "execution_count": null,
      "outputs": []
    },
    {
      "cell_type": "code",
      "metadata": {
        "id": "DprQOdr8uTsv"
      },
      "source": [
        "age=np.array(age)\n",
        "hgt=np.array(hgt)\n",
        "wgt=np.array(wgt)\n",
        "chol=np.array(chol)\n",
        "\n",
        "mage = age.mean()\n",
        "mwgt = wgt.mean()\n",
        "mhgt = hgt.mean()\n",
        "mchol=chol.mean()\n",
        "\n",
        "sage = sd(age)\n",
        "swgt = sd(wgt)\n",
        "shgt = sd(hgt)\n",
        "schol = sd(chol)\n",
        "\n",
        "print(\"Before Scaling :\")\n",
        "print(X)\n",
        "print(Y)\n",
        "print(\"=\"*50)\n",
        "print(\"After Scaling :\")\n",
        "X = scalematrix(X)\n",
        "Y = scale(Y)\n",
        "print(X)\n",
        "print(Y)"
      ],
      "execution_count": null,
      "outputs": []
    },
    {
      "cell_type": "code",
      "metadata": {
        "id": "r_1FGHaKuTsw"
      },
      "source": [
        "theta = train(X,Y,10000,0.05)"
      ],
      "execution_count": null,
      "outputs": []
    },
    {
      "cell_type": "code",
      "metadata": {
        "id": "KeYuNtiGuTsx"
      },
      "source": [
        "print(theta)\n",
        "ycap = predict(X,theta)\n",
        "print(\"============================\")\n",
        "print (ycap)"
      ],
      "execution_count": null,
      "outputs": []
    },
    {
      "cell_type": "code",
      "metadata": {
        "id": "o0zS6dwmuTsx"
      },
      "source": [
        "print(accuarcy(Y,ycap,80))"
      ],
      "execution_count": null,
      "outputs": []
    },
    {
      "cell_type": "code",
      "metadata": {
        "id": "-5IfdArYuTsy"
      },
      "source": [
        "# prediction for new data\n",
        "fo=open(\"D:/Ashwath/NS_Trainings/MyStuff/Newpaitents.txt\")\n",
        "header=fo.readline()\n",
        "data=fo.readlines()\n",
        "age=[]\n",
        "wgt=[]\n",
        "hgt=[]\n",
        "for d in data:\n",
        "    l=d.strip().split(',')\n",
        "    a=float(l[2])\n",
        "    w=float(l[3])\n",
        "    h=float(l[-1])\n",
        "    age.append(a)\n",
        "    wgt.append(w)\n",
        "    hgt.append(h)\n",
        "\n",
        "age=np.array(age)\n",
        "wgt=np.array(wgt)\n",
        "hgt=np.array(hgt)\n",
        "\n",
        "O=np.ones(len(data))\n",
        "\n",
        "print(\"Unscaled input matrix\")\n",
        "uX=np.c_[O,age,wgt,hgt]\n",
        "print(uX)\n",
        "print(\"========================================\")\n",
        "\n",
        "A=(age-mage)/sage\n",
        "W=(wgt-mwgt)/swgt\n",
        "H=(hgt-mhgt)/shgt\n",
        "\n",
        "P=np.c_[O,A,W,H]\n",
        "\n",
        "print(\"Input Matrix : \")\n",
        "print(P)\n",
        "print(\"-\"*50)\n",
        "\n",
        "yc = predict(P,theta)\n",
        "\n",
        "print(\"Scaled prediction : \")\n",
        "print(yc)\n",
        "print(\"-\"*50)\n",
        "\n",
        "unspredict = yc * schol + mchol\n",
        "\n",
        "print(\"Unscaled predictions :\")\n",
        "print(unspredict)           "
      ],
      "execution_count": null,
      "outputs": []
    },
    {
      "cell_type": "code",
      "metadata": {
        "id": "qGIVoe0NuTsz"
      },
      "source": [
        "#training the model using libray : sklearn (scikit learn)\n",
        "from sklearn.linear_model import LinearRegression\n",
        "model = LinearRegression()\n",
        "model.fit(X,Y)\n",
        "lrycap=model.predict(X)\n",
        "\n",
        "lrycap1=model.predict(P)\n",
        "\n",
        "lracc = accuarcy(Y,lrycap,80)\n",
        "print(\"Accuracy of Linear Regression : \",lracc)\n",
        "print(lrycap)\n",
        "print(Y)"
      ],
      "execution_count": null,
      "outputs": []
    },
    {
      "cell_type": "code",
      "metadata": {
        "id": "LWrsy-sluTs0"
      },
      "source": [
        "10,20,30\n",
        "mean = 20\n",
        "10 - 20"
      ],
      "execution_count": null,
      "outputs": []
    }
  ]
}